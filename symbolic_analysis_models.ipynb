{
 "cells": [
  {
   "cell_type": "markdown",
   "id": "elegant-irish",
   "metadata": {},
   "source": [
    "## Symbolic analysis of models\n",
    "\n",
    "In this notebook, we use symbolic mathematics to study energy-based PySB model. We derive steady-state analytical solutions to study reaction networks without costly ODE simulations. First, we load the previously developed models for RAF and RAF inhibition:"
   ]
  },
  {
   "cell_type": "code",
   "execution_count": 1,
   "id": "fluid-amazon",
   "metadata": {},
   "outputs": [
    {
     "name": "stdout",
     "output_type": "stream",
     "text": [
      "Model information\n",
      "Species: 6\n",
      "Parameters: 12\n",
      "Expressions: 8\n",
      "Observables: 8\n",
      "Total Rules: 2\n",
      "Energy Rules: 2\n",
      "Non-energy Rules: 0\n",
      "Energy Patterns: 4\n",
      "Reactions: 12\n"
     ]
    }
   ],
   "source": [
    "#import complex_example_asym_RAF_two_RAFi as model\n",
    "import toy_example_RAF_RAFi as model\n",
    "from pysb.bng import generate_equations\n",
    "from util_display import display_model_info\n",
    "\n",
    "#generate the model equations \n",
    "model=model.model\n",
    "generate_equations(model)\n",
    "\n",
    "#display model informations\n",
    "display_model_info(model)"
   ]
  },
  {
   "cell_type": "markdown",
   "id": "driven-fields",
   "metadata": {},
   "source": [
    "Next, we define the sympy systems of equations corresponding to the ODE system but with the left-hand side (the derivative definition) set to zero, meaning that the system is considered to be at steady-state: "
   ]
  },
  {
   "cell_type": "code",
   "execution_count": 2,
   "id": "atomic-anger",
   "metadata": {},
   "outputs": [],
   "source": [
    "import sympy\n",
    "\n",
    "#create a list of expressions to be substituted into kinetic rates of reactions\n",
    "subs = {e: e.expand_expr() for e in model.expressions | model._derived_expressions}\n",
    "subs.update({sympy.Symbol(f\"__s{i}\"): sympy.Symbol(f\"s_{i}\") for i in range(len(model.species))}) \n",
    "kinetics = sympy.Matrix([r['rate'] for r in model.reactions]).xreplace(subs)    \n",
    "#simplyfy kinetic\n",
    "kinetics.simplify()\n",
    "sm = sympy.SparseMatrix(*model.stoichiometry_matrix.shape, model.stoichiometry_matrix.todok())\n",
    "odes = (sm * kinetics)\n"
   ]
  },
  {
   "cell_type": "markdown",
   "id": "protective-antarctica",
   "metadata": {},
   "source": [
    "Then, we define a last equations that calculates the amount of active RAFs based on the status of RAF dimerization and drug binding:"
   ]
  },
  {
   "cell_type": "code",
   "execution_count": null,
   "id": "characteristic-nelson",
   "metadata": {},
   "outputs": [],
   "source": []
  },
  {
   "cell_type": "markdown",
   "id": "adjusted-bangladesh",
   "metadata": {},
   "source": [
    "We use symbolic solvers to derive the analytical function for the amount of active RAFs at steady state: "
   ]
  },
  {
   "cell_type": "code",
   "execution_count": null,
   "id": "physical-nashville",
   "metadata": {},
   "outputs": [],
   "source": []
  }
 ],
 "metadata": {
  "kernelspec": {
   "display_name": "Python 3",
   "language": "python",
   "name": "python3"
  },
  "language_info": {
   "codemirror_mode": {
    "name": "ipython",
    "version": 3
   },
   "file_extension": ".py",
   "mimetype": "text/x-python",
   "name": "python",
   "nbconvert_exporter": "python",
   "pygments_lexer": "ipython3",
   "version": "3.9.1"
  }
 },
 "nbformat": 4,
 "nbformat_minor": 5
}
