{
 "cells": [
  {
   "cell_type": "markdown",
   "id": "later-beginning",
   "metadata": {},
   "source": [
    "## Symbolic analysis of models\n",
    "\n",
    "In this notebook, we use symbolic mathematics to study energy-based PySB model. We derive steady-state analytical solutions to study reaction networks without costly ODE simulations. First, we load the previously developed models for RAF and RAF inhibition:"
   ]
  },
  {
   "cell_type": "code",
   "execution_count": 1,
   "id": "affiliated-seattle",
   "metadata": {},
   "outputs": [
    {
     "name": "stdout",
     "output_type": "stream",
     "text": [
      "Model information\n",
      "Species: 6\n",
      "Parameters: 12\n",
      "Expressions: 8\n",
      "Observables: 8\n",
      "Total Rules: 2\n",
      "Energy Rules: 2\n",
      "Non-energy Rules: 0\n",
      "Energy Patterns: 4\n",
      "Reactions: 12\n"
     ]
    }
   ],
   "source": [
    "import toy_example_RAF_RAFi as model\n",
    "from pysb.bng import generate_equations\n",
    "from util_display import display_model_info\n",
    "\n",
    "#generate the model equations \n",
    "model=model.model\n",
    "generate_equations(model)\n",
    "\n",
    "#display model informations\n",
    "display_model_info(model)"
   ]
  },
  {
   "cell_type": "markdown",
   "id": "seeing-progressive",
   "metadata": {},
   "source": [
    "Next, we define the sympy systems of equations corresponding to the ODE system but with the left-hand side (the derivative definition) set to zero, meaning that the system is considered to be at steady-state: "
   ]
  },
  {
   "cell_type": "code",
   "execution_count": 2,
   "id": "optional-aging",
   "metadata": {},
   "outputs": [],
   "source": [
    "import sympy\n",
    "import scipy\n",
    "\n",
    "#create a list of expressions to be substituted into kinetic rates of reactions\n",
    "species = sympy.Matrix([sympy.Symbol(f\"s_{i}\", nonnegative=True) for i in range(len(model.species))])\n",
    "subs = {e: e.expand_expr() for e in model.expressions | model._derived_expressions}\n",
    "subs.update({sympy.Symbol(f\"__s{i}\"): s for i, s in enumerate(species)}) \n",
    "kinetics = sympy.Matrix([r['rate'] for r in model.reactions]).xreplace(subs)    \n",
    "#simplyfy kinetic\n",
    "kinetics.simplify()\n",
    "sm = sympy.SparseMatrix(*model.stoichiometry_matrix.shape, model.stoichiometry_matrix.todok())\n",
    "obs_matrix = scipy.sparse.lil_matrix(\n",
    "    (len(model.observables), len(model.species)), dtype=int\n",
    ")\n",
    "for i, obs in enumerate(model.observables):\n",
    "    obs_matrix[i, obs.species] = obs.coefficients\n",
    "om = sympy.SparseMatrix(*obs_matrix.shape, obs_matrix.todok()) \n",
    "odes = sm * kinetics\n",
    "observables = om * species"
   ]
  },
  {
   "cell_type": "markdown",
   "id": "direct-personality",
   "metadata": {},
   "source": [
    "The following cell currently needs to be customized to your specific model. Define conservation of mass expressions for all monomers, and an expression you would like to solve for."
   ]
  },
  {
   "cell_type": "code",
   "execution_count": 3,
   "id": "removed-boating",
   "metadata": {
    "scrolled": true
   },
   "outputs": [
    {
     "data": {
      "text/latex": [
       "$\\displaystyle \\left[\\begin{matrix}f^{1 - \\phi_{RR}} kr_{RR} s_{4} - kf_{RI} s_{0} s_{1} - 1.0 kf_{RR} s_{0}^{2} + kr_{RI} s_{3} + 2 kr_{RR} s_{2} - f^{- \\phi_{RR}} kf_{RR} s_{0} s_{3}\\\\f^{1 - \\phi_{RI}} kr_{RI} s_{4} + 2.0 g^{1 - \\phi_{RI}} kr_{RI} s_{5} - kf_{RI} s_{0} s_{1} + kr_{RI} s_{3} - g^{- \\phi_{RI}} kf_{RI} s_{1} s_{4} - 2.0 f^{- \\phi_{RI}} kf_{RI} s_{1} s_{2}\\\\f^{1 - \\phi_{RI}} kr_{RI} s_{4} + 0.5 kf_{RR} s_{0}^{2} - kr_{RR} s_{2} - 2.0 f^{- \\phi_{RI}} kf_{RI} s_{1} s_{2}\\\\f^{1 - \\phi_{RR}} kr_{RR} s_{4} + kf_{RI} s_{0} s_{1} - 1.0 kf_{RR} s_{3}^{2} \\left(\\frac{1}{f g}\\right)^{\\phi_{RR}} - kr_{RI} s_{3} + 2 kr_{RR} s_{5} \\left(f g\\right)^{1 - \\phi_{RR}} - f^{- \\phi_{RR}} kf_{RR} s_{0} s_{3}\\\\- f^{1 - \\phi_{RI}} kr_{RI} s_{4} - f^{1 - \\phi_{RR}} kr_{RR} s_{4} + 2.0 g^{1 - \\phi_{RI}} kr_{RI} s_{5} - g^{- \\phi_{RI}} kf_{RI} s_{1} s_{4} + f^{- \\phi_{RR}} kf_{RR} s_{0} s_{3} + 2.0 f^{- \\phi_{RI}} kf_{RI} s_{1} s_{2}\\\\- 2.0 g^{1 - \\phi_{RI}} kr_{RI} s_{5} + 0.5 kf_{RR} s_{3}^{2} \\left(\\frac{1}{f g}\\right)^{\\phi_{RR}} - kr_{RR} s_{5} \\left(f g\\right)^{1 - \\phi_{RR}} + g^{- \\phi_{RI}} kf_{RI} s_{1} s_{4}\\\\R_{0} - s_{0} - 2 s_{2} - s_{3} - 2 s_{4} - 2 s_{5}\\\\I_{0} - s_{1} - s_{3} - s_{4} - 2 s_{5}\\end{matrix}\\right]$"
      ],
      "text/plain": [
       "Matrix([\n",
       "[                                                              f**(1 - phi_RR)*kr_RR*s_4 - kf_RI*s_0*s_1 - 1.0*kf_RR*s_0**2 + kr_RI*s_3 + 2*kr_RR*s_2 - f**(-phi_RR)*kf_RR*s_0*s_3],\n",
       "[                              f**(1 - phi_RI)*kr_RI*s_4 + 2.0*g**(1 - phi_RI)*kr_RI*s_5 - kf_RI*s_0*s_1 + kr_RI*s_3 - g**(-phi_RI)*kf_RI*s_1*s_4 - 2.0*f**(-phi_RI)*kf_RI*s_1*s_2],\n",
       "[                                                                                        f**(1 - phi_RI)*kr_RI*s_4 + 0.5*kf_RR*s_0**2 - kr_RR*s_2 - 2.0*f**(-phi_RI)*kf_RI*s_1*s_2],\n",
       "[                        f**(1 - phi_RR)*kr_RR*s_4 + kf_RI*s_0*s_1 - 1.0*kf_RR*s_3**2*(1/(f*g))**phi_RR - kr_RI*s_3 + 2*kr_RR*s_5*(f*g)**(1 - phi_RR) - f**(-phi_RR)*kf_RR*s_0*s_3],\n",
       "[-f**(1 - phi_RI)*kr_RI*s_4 - f**(1 - phi_RR)*kr_RR*s_4 + 2.0*g**(1 - phi_RI)*kr_RI*s_5 - g**(-phi_RI)*kf_RI*s_1*s_4 + f**(-phi_RR)*kf_RR*s_0*s_3 + 2.0*f**(-phi_RI)*kf_RI*s_1*s_2],\n",
       "[                                                 -2.0*g**(1 - phi_RI)*kr_RI*s_5 + 0.5*kf_RR*s_3**2*(1/(f*g))**phi_RR - kr_RR*s_5*(f*g)**(1 - phi_RR) + g**(-phi_RI)*kf_RI*s_1*s_4],\n",
       "[                                                                                                                                          R_0 - s_0 - 2*s_2 - s_3 - 2*s_4 - 2*s_5],\n",
       "[                                                                                                                                                    I_0 - s_1 - s_3 - s_4 - 2*s_5]])"
      ]
     },
     "metadata": {},
     "output_type": "display_data"
    }
   ],
   "source": [
    "# Define conservation of mass expressions (each equal to zero).\n",
    "conservation = sympy.Matrix([\n",
    "    model.parameters[\"R_0\"] - observables[0],\n",
    "    model.parameters[\"I_0\"] - observables[1],\n",
    "])\n",
    "\n",
    "system = sympy.Matrix.vstack(odes)\n",
    "# This is just R_BRAFmut_active_obs, but it could be any expression.\n",
    "#R_active = sympy.Symbol('R_active')\n",
    "#expression = sympy.Matrix([R_active - observables[2]])\n",
    "system = sympy.Matrix.vstack(odes, conservation)\n",
    "display(system)"
   ]
  },
  {
   "cell_type": "markdown",
   "id": "irish-synthesis",
   "metadata": {},
   "source": [
    "Solve the combined system of the ODEs and conservation expressions for the list of symbols used in our desired expression. There may be multiple solutions"
   ]
  },
  {
   "cell_type": "code",
   "execution_count": 4,
   "id": "lasting-raising",
   "metadata": {},
   "outputs": [],
   "source": [
    "#solve the symbolic systems\n",
    "#solutions = sympy.solve(system, list(species), force=True, manual=True)\n",
    "\n",
    "#unfortunately the sympy solver seems not to be able to solve even this simple system\n",
    "#working on implementin a new approach tailored for mass-action kinetic systems with specific characteristics"
   ]
  },
  {
   "cell_type": "markdown",
   "id": "joint-guidance",
   "metadata": {},
   "source": [
    "We evaluate the expressions or observable as function of the steady state species concentrations (S_x) to calculate the amount of active RAFs:"
   ]
  },
  {
   "cell_type": "code",
   "execution_count": 5,
   "id": "generous-power",
   "metadata": {},
   "outputs": [],
   "source": [
    "# to be done"
   ]
  }
 ],
 "metadata": {
  "kernelspec": {
   "display_name": "Python 3",
   "language": "python",
   "name": "python3"
  },
  "language_info": {
   "codemirror_mode": {
    "name": "ipython",
    "version": 3
   },
   "file_extension": ".py",
   "mimetype": "text/x-python",
   "name": "python",
   "nbconvert_exporter": "python",
   "pygments_lexer": "ipython3",
   "version": "3.9.1"
  }
 },
 "nbformat": 4,
 "nbformat_minor": 5
}
