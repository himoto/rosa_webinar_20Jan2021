{
 "cells": [
  {
   "cell_type": "markdown",
   "id": "later-beginning",
   "metadata": {},
   "source": [
    "## Symbolic analysis of models\n",
    "\n",
    "In this notebook, we use symbolic mathematics to study energy-based PySB model. We derive steady-state analytical solutions to study reaction networks without costly ODE simulations. First, we load the previously developed models for RAF and RAF inhibition:"
   ]
  },
  {
   "cell_type": "code",
   "execution_count": 1,
   "id": "affiliated-seattle",
   "metadata": {},
   "outputs": [
    {
     "name": "stdout",
     "output_type": "stream",
     "text": [
      "Model information\n",
      "Species: 6\n",
      "Parameters: 12\n",
      "Expressions: 8\n",
      "Observables: 8\n",
      "Total Rules: 2\n",
      "Energy Rules: 2\n",
      "Non-energy Rules: 0\n",
      "Energy Patterns: 4\n",
      "Reactions: 12\n"
     ]
    }
   ],
   "source": [
    "#import complex_example_asym_RAF_two_RAFi as model\n",
    "import toy_example_RAF_RAFi as model\n",
    "from pysb.bng import generate_equations\n",
    "from util_display import display_model_info\n",
    "\n",
    "#generate the model equations \n",
    "model=model.model\n",
    "generate_equations(model)\n",
    "\n",
    "#display model informations\n",
    "display_model_info(model)"
   ]
  },
  {
   "cell_type": "markdown",
   "id": "seeing-progressive",
   "metadata": {},
   "source": [
    "Next, we define the sympy systems of equations corresponding to the ODE system but with the left-hand side (the derivative definition) set to zero, meaning that the system is considered to be at steady-state: "
   ]
  },
  {
   "cell_type": "code",
   "execution_count": 2,
   "id": "optional-aging",
   "metadata": {},
   "outputs": [],
   "source": [
    "import sympy\n",
    "import scipy\n",
    "\n",
    "#create a list of expressions to be substituted into kinetic rates of reactions\n",
    "species = sympy.Matrix([sympy.Symbol(f\"s_{i}\") for i in range(len(model.species))])\n",
    "subs = {e: e.expand_expr() for e in model.expressions | model._derived_expressions}\n",
    "subs.update({sympy.Symbol(f\"__s{i}\"): s for i, s in enumerate(species)}) \n",
    "kinetics = sympy.Matrix([r['rate'] for r in model.reactions]).xreplace(subs)    \n",
    "#simplyfy kinetic\n",
    "kinetics.simplify()\n",
    "sm = sympy.SparseMatrix(*model.stoichiometry_matrix.shape, model.stoichiometry_matrix.todok())\n",
    "obs_matrix = scipy.sparse.lil_matrix(\n",
    "    (len(model.observables), len(model.species)), dtype=int\n",
    ")\n",
    "for i, obs in enumerate(model.observables):\n",
    "    obs_matrix[i, obs.species] = obs.coefficients\n",
    "om = sympy.SparseMatrix(*obs_matrix.shape, obs_matrix.todok()) \n",
    "odes = sm * kinetics\n",
    "observables = om * species"
   ]
  },
  {
   "cell_type": "markdown",
   "id": "direct-personality",
   "metadata": {},
   "source": [
    "The following cell currently needs to be customized to your specific model. Define conservation of mass expressions for all monomers, and an expression you would like to solve for."
   ]
  },
  {
   "cell_type": "code",
   "execution_count": 3,
   "id": "removed-boating",
   "metadata": {},
   "outputs": [],
   "source": [
    "# Define conservation of mass expressions (each equal to zero).\n",
    "conservation = sympy.Matrix([\n",
    "    model.parameters[\"R_0\"] - observables[0],\n",
    "    model.parameters[\"I_0\"] - observables[1],\n",
    "])\n",
    "# This is just R_BRAFmut_active_obs, but it could be any expression.\n",
    "expression = observables[2]"
   ]
  },
  {
   "cell_type": "markdown",
   "id": "irish-synthesis",
   "metadata": {},
   "source": [
    "Solve the combined system of the ODEs and conservation expressions for the list of symbols used in our desired expression. There may be multiple solutions"
   ]
  },
  {
   "cell_type": "code",
   "execution_count": 4,
   "id": "lasting-raising",
   "metadata": {},
   "outputs": [],
   "source": [
    "symbols = list(expression.atoms(sympy.Symbol))\n",
    "system = sympy.Matrix.vstack(odes, conservation)\n",
    "solutions = sympy.nonlinsolve(system, symbols)"
   ]
  },
  {
   "cell_type": "markdown",
   "id": "through-processor",
   "metadata": {},
   "source": [
    "Substitute each solution into our original expression, keeping only unique results (sometimes the solver returns multiple solutions that end up yielding the same final expression value)."
   ]
  },
  {
   "cell_type": "code",
   "execution_count": 5,
   "id": "basic-nepal",
   "metadata": {
    "scrolled": false
   },
   "outputs": [
    {
     "data": {
      "text/latex": [
       "$\\displaystyle \\left[\\begin{matrix}- I_{0} + R_{0} + s_{1}\\end{matrix}\\right]$"
      ],
      "text/plain": [
       "Matrix([[-I_0 + R_0 + s_1]])"
      ]
     },
     "execution_count": 5,
     "metadata": {},
     "output_type": "execute_result"
    }
   ],
   "source": [
    "sympy.Matrix(list(set(expression.xreplace(dict(zip(symbols, s))).simplify() for s in solutions)))"
   ]
  },
  {
   "cell_type": "markdown",
   "id": "joint-guidance",
   "metadata": {},
   "source": [
    "Then, we define a last equations that calculates the amount of active RAFs based on the status of RAF dimerization and drug binding:"
   ]
  },
  {
   "cell_type": "code",
   "execution_count": null,
   "id": "persistent-pressing",
   "metadata": {},
   "outputs": [],
   "source": []
  },
  {
   "cell_type": "markdown",
   "id": "mental-domestic",
   "metadata": {},
   "source": [
    "We use symbolic solvers to derive the analytical function for the amount of active RAFs at steady state: "
   ]
  },
  {
   "cell_type": "code",
   "execution_count": null,
   "id": "enormous-conversion",
   "metadata": {},
   "outputs": [],
   "source": []
  }
 ],
 "metadata": {
  "kernelspec": {
   "display_name": "Python 3",
   "language": "python",
   "name": "python3"
  },
  "language_info": {
   "codemirror_mode": {
    "name": "ipython",
    "version": 3
   },
   "file_extension": ".py",
   "mimetype": "text/x-python",
   "name": "python",
   "nbconvert_exporter": "python",
   "pygments_lexer": "ipython3",
   "version": "3.8.5"
  }
 },
 "nbformat": 4,
 "nbformat_minor": 5
}
