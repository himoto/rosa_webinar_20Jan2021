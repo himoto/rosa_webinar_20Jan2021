{
 "cells": [
  {
   "cell_type": "markdown",
   "metadata": {},
   "source": [
    "# A toy example for modeling complex drug-protein interactions using RAF kinases and RAF inhibitors"
   ]
  },
  {
   "cell_type": "markdown",
   "metadata": {},
   "source": [
    "Here provide the step-by-step construction code for a toy example to model complex drug-protein interactions using PySB with energy formulation (through support for eBNG). This example describes RAF kinases as drug targets and RAF inhibitors as the drug. To run this code you'll need to have Pysb with BNG installed, please follow instructions at: http://pysb.org/ .\n",
    "\n",
    "To start, we import all required pysb classes and instantiate the model:"
   ]
  },
  {
   "cell_type": "code",
   "execution_count": 143,
   "metadata": {},
   "outputs": [],
   "source": [
    "from pysb import Model, Monomer, Parameter, Expression,  Rule, Observable, Initial, Annotation, EnergyPattern, ANY\n",
    "from pysb.bng import generate_equations\n",
    "from pysb.export import export\n",
    "from sympy import exp, log\n",
    "\n",
    "Model();"
   ]
  },
  {
   "cell_type": "markdown",
   "metadata": {},
   "source": [
    "Next, we define the two basic components of the model, RAF kinases (R) and RAF inhibitors (I): "
   ]
  },
  {
   "cell_type": "code",
   "execution_count": 144,
   "metadata": {},
   "outputs": [],
   "source": [
    "# Define a monomer R that represents a RAF kinase with a binding site for RAF (r) and another for the drug (i)\n",
    "Monomer('R', ['r', 'i']);   \n",
    "# Define a monomer I that represents a RAF inhibitor with a binding site for RAF (r) \n",
    "Monomer('I',['r']);   "
   ]
  },
  {
   "cell_type": "markdown",
   "metadata": {},
   "source": [
    "We define the parameters for initializing abundance of components:"
   ]
  },
  {
   "cell_type": "code",
   "execution_count": 145,
   "metadata": {},
   "outputs": [],
   "source": [
    "Parameter('R_0',1.0);\n",
    "Parameter('I_0',1.0);\n",
    "Initial(R(r=None, i=None), R_0);\n",
    "Initial(I(r=None), I_0);"
   ]
  },
  {
   "cell_type": "markdown",
   "metadata": {},
   "source": [
    "Then, we define the kinetic parameters and thermodynamic factors: "
   ]
  },
  {
   "cell_type": "code",
   "execution_count": 146,
   "metadata": {},
   "outputs": [],
   "source": [
    "# Define dissociation constant (kD), forward rate (kf) and distributionr rate (phi) for RAF dimerization\n",
    "Parameter('RR_kD',1.0);\n",
    "Parameter('RR_kf',1.0);\n",
    "Parameter('RR_phi',1.0);\n",
    "\n",
    "# Define dissociation constant (kD), forward rate (kf) and distributionr rate (phi) for drug binding to RAF\n",
    "Parameter('RI_kD',1.0);\n",
    "Parameter('RI_kf',1.0);\n",
    "Parameter('RI_phi',1.0);\n",
    "\n",
    "# Define thermodynamic factors f and g\n",
    "Parameter('f',1.0);\n",
    "Parameter('g',1.0);"
   ]
  },
  {
   "cell_type": "markdown",
   "metadata": {},
   "source": [
    "We convert the kinetic parameters into corresponding energy parameters:"
   ]
  },
  {
   "cell_type": "code",
   "execution_count": 147,
   "metadata": {},
   "outputs": [],
   "source": [
    "# Convert kinetic parameters into energies for RAF dimerization\n",
    "Expression('Gf_RR', log(RR_kD));\n",
    "Expression('Ea0_RR',-(RR_phi*log(RR_kD)+log(RR_kf)));\n",
    "\n",
    "# Convert kinetic parameters into energies for drug binding to RAF\n",
    "Expression('Gf_RI', log(RI_kD));\n",
    "Expression('Ea0_RI',-(RI_phi*log(RI_kD)+log(RI_kf)));\n",
    "\n",
    "# Convert thermodynamic factors into energies\n",
    "Expression('Gf_f',log(f));\n",
    "Expression('Gf_g',log(g));"
   ]
  },
  {
   "cell_type": "markdown",
   "metadata": {},
   "source": [
    "We define the energy patterns to assign the energy within species:"
   ]
  },
  {
   "cell_type": "code",
   "execution_count": 148,
   "metadata": {},
   "outputs": [],
   "source": [
    "# Define energy in bond between R and R\n",
    "EnergyPattern('ep_RR',R(r=1)%R(r=1),Gf_RR);\n",
    "\n",
    "# Define energy in bond between R and I\n",
    "EnergyPattern('ep_RI',R(i=1)%I(r=1),Gf_RI);\n",
    "\n",
    "# Define additional energy in bond betwee RAF dimer and a single drug molecule\n",
    "Expression('Gf_RRI',Gf_f);\n",
    "EnergyPattern('ep_RRI',R(r=1,i=None)%R(r=1,i=2)%I(r=2), Gf_RRI);\n",
    "\n",
    "# Define additional energy in bond betwee RAF dimer and two drug molecules\n",
    "Expression('Gf_IRRI', Gf_f + Gf_g);\n",
    "EnergyPattern('ep_IRRI',I(r=2)%R(r=1,i=2)%R(r=1,i=3)%I(r=3), Gf_IRRI);"
   ]
  },
  {
   "cell_type": "markdown",
   "metadata": {},
   "source": [
    "We define observables useful later on to investigate the behaviour of model simulations: "
   ]
  },
  {
   "cell_type": "code",
   "execution_count": 149,
   "metadata": {},
   "outputs": [],
   "source": [
    "# Define observable for total RAF and total drug\n",
    "Observable('Rtot_obs', R());\n",
    "Observable('Itot_obs', I());\n",
    "\n",
    "# Define observable for drug unbound RAF monomer\n",
    "Observable('R_obs', R(i=None));\n",
    "\n",
    "# Define observable for RAF dimer unbound by drug\n",
    "Observable('RR_obs', R(r=1,i=None)%R(r=1,i=None));\n",
    "\n",
    "# Define observable for RAF dimer unbound by drug\n",
    "Observable('RRI_obs', R(r=1,i=None)%R(r=1,i=2)%I(r=2));\n",
    "\n",
    "Observable('IRRI_obs', I(r=2)%R(r=1,i=2)%R(r=1,i=3)%I(r=3));"
   ]
  },
  {
   "cell_type": "markdown",
   "metadata": {},
   "source": [
    "As the last step in the model construction, we define the reactions for RAF dimerization and drug binding: "
   ]
  },
  {
   "cell_type": "code",
   "execution_count": 150,
   "metadata": {},
   "outputs": [],
   "source": [
    "# Define RAF dimerization reaction\n",
    "Rule('RR', R(r=None)+R(r=None) | R(r=1)%R(r=1) , RR_phi, Ea0_RR, energy=True);\n",
    "\n",
    "#Define drug binding to RAF reaction\n",
    "Rule('RI', R(i=None)+I(r=None) | R(i=1)%I(r=1) , RI_phi, Ea0_RI, energy=True);"
   ]
  },
  {
   "cell_type": "markdown",
   "metadata": {},
   "source": [
    "We generate the kinetic model by passing the information on the model to BNG, parse the reaction network that is returned and list the properties of the resulting kinetic model: "
   ]
  },
  {
   "cell_type": "code",
   "execution_count": 151,
   "metadata": {},
   "outputs": [
    {
     "name": "stdout",
     "output_type": "stream",
     "text": [
      "RAF-RAF model information\n",
      "Species: 6\n",
      "Parameters: 12\n",
      "Expressions: 20\n",
      "Observables: 6\n",
      "Total Rules: 2\n",
      "Energy Rules: 2\n",
      "Non-energy Rules: 0\n",
      "Energy Patterns: 4\n",
      "Reactions: 12\n"
     ]
    }
   ],
   "source": [
    "print ('RAF-RAF model information')\n",
    "generate_equations(model)\n",
    "print ('Species:',len(model.species))\n",
    "print ('Parameters:',len(model.parameters)+len(model.initial_conditions))\n",
    "print ('Expressions:',len(model.expressions))\n",
    "print ('Observables:', len(model.observables))\n",
    "ntotr=len(model.rules);\n",
    "nenergy=len([r for r in model.rules if r.energy]);\n",
    "print ('Total Rules:', ntotr)\n",
    "print ('Energy Rules:', nenergy)\n",
    "print('Non-energy Rules:', ntotr-nenergy)\n",
    "print('Energy Patterns:', len(model.energypatterns))\n",
    "print('Reactions:',len(model.reactions))"
   ]
  },
  {
   "cell_type": "code",
   "execution_count": null,
   "metadata": {},
   "outputs": [],
   "source": []
  },
  {
   "cell_type": "code",
   "execution_count": null,
   "metadata": {},
   "outputs": [],
   "source": []
  },
  {
   "cell_type": "code",
   "execution_count": null,
   "metadata": {},
   "outputs": [],
   "source": []
  },
  {
   "cell_type": "code",
   "execution_count": null,
   "metadata": {},
   "outputs": [],
   "source": []
  },
  {
   "cell_type": "code",
   "execution_count": null,
   "metadata": {},
   "outputs": [],
   "source": []
  }
 ],
 "metadata": {
  "kernelspec": {
   "display_name": "Python 3",
   "language": "python",
   "name": "python3"
  },
  "language_info": {
   "codemirror_mode": {
    "name": "ipython",
    "version": 3
   },
   "file_extension": ".py",
   "mimetype": "text/x-python",
   "name": "python",
   "nbconvert_exporter": "python",
   "pygments_lexer": "ipython3",
   "version": "3.7.6"
  }
 },
 "nbformat": 4,
 "nbformat_minor": 4
}
