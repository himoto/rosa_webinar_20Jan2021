{
 "cells": [
  {
   "cell_type": "markdown",
   "metadata": {},
   "source": [
    "# A toy example for modeling complex drug-protein interactions using RAF kinases and RAF inhibitors"
   ]
  },
  {
   "cell_type": "markdown",
   "metadata": {},
   "source": [
    "Here provide the step-by-step construction code for a toy example to model complex drug-protein interactions using PySB with energy formulation (through support for eBNG). This example describes RAF kinases as drug targets and RAF inhibitors as the drug. To run this code you'll need to have Pysb with BNG installed, please follow instructions at: http://pysb.org/ .\n",
    "\n",
    "### Manual definition of the biochemical reaction system\n",
    "\n",
    "To start, we import all required Pysb classes and instantiate the model:"
   ]
  },
  {
   "cell_type": "code",
   "execution_count": 48,
   "metadata": {},
   "outputs": [],
   "source": [
    "from pysb import Model, Monomer, Parameter, Expression,  Rule, Observable, Initial, Annotation, EnergyPattern, ANY\n",
    "from pysb.bng import generate_equations\n",
    "from pysb.export import export\n",
    "from sympy import exp, log\n",
    "\n",
    "Model();"
   ]
  },
  {
   "cell_type": "markdown",
   "metadata": {},
   "source": [
    "Next, we define the two basic components of the model, RAF kinases (R) and RAF inhibitors (I): "
   ]
  },
  {
   "cell_type": "code",
   "execution_count": 49,
   "metadata": {},
   "outputs": [],
   "source": [
    "#define a monomer R that represents a RAF kinase with a binding site for RAF (r) and another for the drug (i)\n",
    "Monomer('R', ['r', 'i']);   \n",
    "#define a monomer I that represents a RAF inhibitor with a binding site for RAF (r) \n",
    "Monomer('I',['r']);   "
   ]
  },
  {
   "cell_type": "markdown",
   "metadata": {},
   "source": [
    "We define the parameters for initializing abundance of components:"
   ]
  },
  {
   "cell_type": "code",
   "execution_count": 50,
   "metadata": {},
   "outputs": [],
   "source": [
    "#define the initial conditions for R and I\n",
    "Parameter('R_0',1.0);  # uM\n",
    "Parameter('I_0',1.0);  # uM\n",
    "Initial(R(r=None, i=None), R_0);\n",
    "Initial(I(r=None), I_0);"
   ]
  },
  {
   "cell_type": "markdown",
   "metadata": {},
   "source": [
    "Then, we define the kinetic parameters and thermodynamic factors: "
   ]
  },
  {
   "cell_type": "code",
   "execution_count": 51,
   "metadata": {},
   "outputs": [],
   "source": [
    "#define dissociation constant (kD), forward rate (kf) and distributionr rate (phi) for RAF dimerization\n",
    "Parameter('RR_kD',1.0);  #uM\n",
    "Parameter('RR_kf',1.0);  #/s/uM\n",
    "Parameter('RR_phi',1.0); #unitless \n",
    "\n",
    "#define dissociation constant (kD), forward rate (kf) and distributionr rate (phi) for drug binding to RAF\n",
    "Parameter('RI_kD',1.0);  #uM\n",
    "Parameter('RI_kf',1.0);  #/s/uM\n",
    "Parameter('RI_phi',1.0); #unitless\n",
    "\n",
    "#define thermodynamic factors f and g\n",
    "Parameter('f',1.0);  #unitless \n",
    "Parameter('g',1.0);  #unitless"
   ]
  },
  {
   "cell_type": "markdown",
   "metadata": {},
   "source": [
    "We convert the kinetic parameters into corresponding energy parameters:"
   ]
  },
  {
   "cell_type": "code",
   "execution_count": 52,
   "metadata": {},
   "outputs": [],
   "source": [
    "#convert kinetic parameters into energies for RAF dimerization\n",
    "Expression('Gf_RR', log(RR_kD)); #unitless \n",
    "Expression('Ea0_RR',-RR_phi*log(RR_kD)-log(RR_kf)); #unitless \n",
    "\n",
    "#convert kinetic parameters into energies for drug binding to RAF\n",
    "Expression('Gf_RI', log(RI_kD)); #unitless \n",
    "Expression('Ea0_RI',-RI_phi*log(RI_kD)-log(RI_kf)); #unitless \n",
    "\n",
    "#convert thermodynamic factors into energies\n",
    "Expression('Gf_f',log(f)); #unitless \n",
    "Expression('Gf_g',log(g)); #unitless "
   ]
  },
  {
   "cell_type": "markdown",
   "metadata": {},
   "source": [
    "We define the energy patterns to assign the energy within species:"
   ]
  },
  {
   "cell_type": "code",
   "execution_count": 53,
   "metadata": {},
   "outputs": [],
   "source": [
    "# define energy in bond between R and R\n",
    "EnergyPattern('ep_RR',R(r=1)%R(r=1),Gf_RR);\n",
    "\n",
    "# define energy in bond between R and I\n",
    "EnergyPattern('ep_RI',R(i=1)%I(r=1),Gf_RI);\n",
    "\n",
    "# define additional energy in bond betwee RAF dimer and a single drug molecule\n",
    "Expression('Gf_RRI',Gf_f);\n",
    "EnergyPattern('ep_RRI',R(r=1,i=None)%R(r=1,i=2)%I(r=2), Gf_RRI);\n",
    "\n",
    "# define additional energy in bond betwee RAF dimer and two drug molecules\n",
    "Expression('Gf_IRRI', Gf_f + Gf_g);\n",
    "EnergyPattern('ep_IRRI',I(r=2)%R(r=1,i=2)%R(r=1,i=3)%I(r=3), Gf_IRRI);"
   ]
  },
  {
   "cell_type": "markdown",
   "metadata": {},
   "source": [
    "We define observables useful later on to investigate the behaviour of model simulations: "
   ]
  },
  {
   "cell_type": "code",
   "execution_count": 54,
   "metadata": {},
   "outputs": [],
   "source": [
    "# define observable for total RAF and total drug\n",
    "Observable('Rtot_obs', R());\n",
    "Observable('Itot_obs', I());\n",
    "\n",
    "# define observable for drug unbound RAF monomer\n",
    "Observable('R_obs', R(i=None));\n",
    "\n",
    "# define observable for RAF dimer unbound by drug\n",
    "Observable('RR_obs', R(r=1,i=None)%R(r=1,i=None));\n",
    "\n",
    "# define observable for RAF dimer bound by single drug\n",
    "Observable('RRI_obs', R(r=1,i=None)%R(r=1,i=2)%I(r=2));\n",
    "\n",
    "# define observable for RAF dimer bound by double drug\n",
    "Observable('IRRI_obs', I(r=2)%R(r=1,i=2)%R(r=1,i=3)%I(r=3));"
   ]
  },
  {
   "cell_type": "markdown",
   "metadata": {},
   "source": [
    "As the last step in the model construction, we define the reactions for RAF dimerization and drug binding: "
   ]
  },
  {
   "cell_type": "code",
   "execution_count": 55,
   "metadata": {},
   "outputs": [],
   "source": [
    "#define RAF dimerization reaction\n",
    "Rule('RR', R(r=None)+R(r=None) | R(r=1)%R(r=1) , RR_phi, Ea0_RR, energy=True);\n",
    "\n",
    "#define drug binding to RAF reaction\n",
    "Rule('RI', R(i=None)+I(r=None) | R(i=1)%I(r=1) , RI_phi, Ea0_RI, energy=True);"
   ]
  },
  {
   "cell_type": "markdown",
   "metadata": {},
   "source": [
    "### Automatic generation of kinetic model\n",
    "\n",
    "We generate the kinetic model by passing the information on the model to BNG, parse the reaction network that is returned and list the properties of the resulting kinetic model: "
   ]
  },
  {
   "cell_type": "code",
   "execution_count": 56,
   "metadata": {},
   "outputs": [
    {
     "name": "stdout",
     "output_type": "stream",
     "text": [
      "RAF-RAFi model information\n",
      "Species: 6\n",
      "Parameters: 12\n",
      "Expressions: 20\n",
      "Observables: 6\n",
      "Total Rules: 2\n",
      "Energy Rules: 2\n",
      "Non-energy Rules: 0\n",
      "Energy Patterns: 4\n",
      "Reactions: 12\n"
     ]
    }
   ],
   "source": [
    "# generate the model equations\n",
    "generate_equations(model)\n",
    "\n",
    "# print model infomration\n",
    "print ('RAF-RAFi model information')\n",
    "print ('Species:',len(model.species))\n",
    "print ('Parameters:',len(model.parameters)+len(model.initial_conditions))\n",
    "print ('Expressions:',len(model.expressions))\n",
    "print ('Observables:', len(model.observables))\n",
    "ntotr=len(model.rules);\n",
    "nenergy=len([r for r in model.rules if r.energy]);\n",
    "print ('Total Rules:', ntotr)\n",
    "print ('Energy Rules:', nenergy)\n",
    "print('Non-energy Rules:', ntotr-nenergy)\n",
    "print('Energy Patterns:', len(model.energypatterns))\n",
    "print('Reactions:',len(model.reactions))"
   ]
  },
  {
   "cell_type": "markdown",
   "metadata": {},
   "source": [
    "We plot the automatically generated equation rates to check that thermodynamic factors indeed control cooperative reaction rates:"
   ]
  },
  {
   "cell_type": "code",
   "execution_count": 57,
   "metadata": {},
   "outputs": [],
   "source": [
    "# to appear"
   ]
  },
  {
   "cell_type": "markdown",
   "metadata": {},
   "source": [
    "### Model simulations\n",
    "\n",
    "We use the generated model to simulate the response of RAF kinases to three classes of RAF inhibitors: 1st generation (e.g. Vemurafenib, Dabrafenib and Encorafenib), paradox breakers (e.g. PLX8349) and panRAF (e.g. LY3009120, AZ628) inhibitors. We observe the effect of the drugs in situations with low and high propensity for RAF dimerization (controlled by setting the Kd values of the RAF dimerization reactions) to study the effect that the drugs have in absence or presence of the dimerization status of RAFs, for example as induced by Ras-GTP signal that induces RAF dimerization. "
   ]
  },
  {
   "cell_type": "code",
   "execution_count": 64,
   "metadata": {},
   "outputs": [],
   "source": [
    "#import various utility packages\n",
    "import numpy as np\n",
    "import pandas as pd\n",
    "import seaborn as sns\n",
    "import matplotlib.pyplot as plt\n",
    "#import ODE simulator\n",
    "from pysb.simulator import ScipyOdeSimulator\n",
    "\n",
    "#set up the ODE simulator for the model\n",
    "sim = ScipyOdeSimulator(model, atol=1E-50);\n",
    "\n",
    "#set the dilution range for the RAF inhibitor\n",
    "RAFi_dil=np.logspace(-4, 1, 11, base=10.0); #uM\n",
    "#set the values of f and g to be simulated\n",
    "#1st generation: f= 0.001, g=1000\n",
    "#paradox breaker: f= 1.0, g=1000\n",
    "#panRAF: f= 0.001, g=1\n",
    "ff=[0.001, 1.0, 0.001];\n",
    "gg=[1000, 1000, 1];\n",
    "\n",
    "#set the time of simulation\n",
    "t_start = 0.0;\n",
    "t_end = 10.0;\n",
    "tspan = np.linspace(t_start, t_end);\n",
    "\n",
    "#simulate ODE systems\n",
    "#sim.run(tspan=tspan)\n",
    "#res = sim.run(tspan=tspan)"
   ]
  },
  {
   "cell_type": "code",
   "execution_count": null,
   "metadata": {},
   "outputs": [],
   "source": []
  }
 ],
 "metadata": {
  "kernelspec": {
   "display_name": "Python 3",
   "language": "python",
   "name": "python3"
  },
  "language_info": {
   "codemirror_mode": {
    "name": "ipython",
    "version": 3
   },
   "file_extension": ".py",
   "mimetype": "text/x-python",
   "name": "python",
   "nbconvert_exporter": "python",
   "pygments_lexer": "ipython3",
   "version": "3.7.6"
  }
 },
 "nbformat": 4,
 "nbformat_minor": 4
}
